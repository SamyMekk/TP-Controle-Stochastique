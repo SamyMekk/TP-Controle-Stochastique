{
 "cells": [
  {
   "cell_type": "markdown",
   "id": "81ac4e00",
   "metadata": {},
   "source": [
    "<h1><center> TP n°1 : Deep Learning for PDEs </center></h1>\n",
    "\n",
    "\n",
    "\n",
    "\n",
    "<h5> Welcome to the TP n°1 of the course Apprentissage automatique et contrôle stochastique  which will focus on Deep Learning for PDEs ! </h5>\n",
    "\n",
    "\n",
    "\n",
    "<h2> Summary : </h2>\n",
    "\n",
    "- [An overview of the TP](#introduction)\n",
    "- [Some basics on neural networks](#policy-gradient-methods-in-continuous-time)\n",
    "- [Deep Galerkin Algorithm](#test)\n",
    "  - [Some Applications](#test)\n",
    "- [Deep BSDE Solver](#test)\n",
    "  - [Some Applications](#test)\n",
    "- [References](#references)\n",
    "\n"
   ]
  },
  {
   "cell_type": "code",
   "execution_count": null,
   "id": "fa0339c3",
   "metadata": {},
   "outputs": [],
   "source": []
  },
  {
   "cell_type": "code",
   "execution_count": null,
   "id": "8ea8481b",
   "metadata": {},
   "outputs": [],
   "source": []
  },
  {
   "cell_type": "code",
   "execution_count": null,
   "id": "c3c7f19b",
   "metadata": {},
   "outputs": [],
   "source": []
  },
  {
   "cell_type": "code",
   "execution_count": null,
   "id": "b9d18ec3",
   "metadata": {},
   "outputs": [],
   "source": []
  },
  {
   "cell_type": "markdown",
   "id": "a367cdb2",
   "metadata": {},
   "source": [
    "<a id=references></a>\n",
    "<h2> <center> References :  </center> </h2>\n",
    "\n",
    "\n",
    "$\\bullet$ TBD\n",
    "\n",
    "$\\bullet$ TBD\n",
    "\n",
    "$\\bullet$ TBD\n",
    "\n",
    "$\\bullet$ TBD\n",
    "\n",
    "\n"
   ]
  },
  {
   "cell_type": "code",
   "execution_count": null,
   "id": "17994f7f",
   "metadata": {},
   "outputs": [],
   "source": []
  }
 ],
 "metadata": {
  "kernelspec": {
   "display_name": "AppStatApp_TP2",
   "language": "python",
   "name": "appstatapp_tp2"
  },
  "language_info": {
   "codemirror_mode": {
    "name": "ipython",
    "version": 3
   },
   "file_extension": ".py",
   "mimetype": "text/x-python",
   "name": "python",
   "nbconvert_exporter": "python",
   "pygments_lexer": "ipython3",
   "version": "3.10.9"
  }
 },
 "nbformat": 4,
 "nbformat_minor": 5
}
